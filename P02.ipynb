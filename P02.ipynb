{
 "cells": [
  {
   "cell_type": "code",
   "execution_count": 3,
   "id": "e2b60ac2-60d4-4558-9ab3-718ea916016d",
   "metadata": {},
   "outputs": [],
   "source": [
    "dict_gn=dict(\n",
    "    Arad=dict(Zerind=75,Timisoara=118,Sibiu=140),\n",
    "    Zerind=dict(Oradea=71,Arad=75),\n",
    "    Sibiu=dict(Rimnicu=80,Fagaras=99,Arad=140,Oradea=151),\n",
    "    Timisoara=dict(Lugoj=111,Arad=118),\n",
    "    Oradea=dict(Zerind=71,Sibiu=151),\n",
    "    Lugoj=dict(Mehadia=70,Timisoara=111),\n",
    "    Fagaras=dict(Sibiu=99,Bucharest=211),\n",
    "    Rimnicu=dict(Sibiu=80,Pitesti=97,Craiova=146),\n",
    "    Bucharest=dict(Urziceni=85,Giurgiu=90,Pitesti=101,Fagaras=211),\n",
    "    Craiova=dict(Dobreta=120,Pitesti=138,Rimnicu=146),\n",
    "    Dobreta=dict(Mehadia=75,Craiova=120),\n",
    "    Eforie=dict(Hirsova=86),\n",
    "    Hirsova=dict(Eforie=86,Urziceni=98),\n",
    "    Iasi=dict(Neamt=87,Valsui=92),\n",
    "    Pitesti=dict(Rimnicu=97,Bucharest=101,Craiova=138),\n",
    "    Urziceni=dict(Bucharest=85,Hirsova=98,Valsui=142),\n",
    "    Giurgui=dict(Bucharest=90),\n",
    "    Mehadia=dict(Dobreta=75),\n",
    "    Valsui=dict(Iasi=92,Urziceni=142),\n",
    "    Neamt=dict(Iasi=87)\n",
    "    )\n",
    "\n",
    "dict_hn={'Arad':336,'Bucharest':0,'Craiova':160,'Dobreta':242,'Eforie':161,\n",
    "         'Fagaras':176,'Giurgui':77,'Hirsova':151,'Iasi':226,'Lugoj':244,\n",
    "         'Mehadia':241,'Neamt':234,'Oradea':380,'Pitesti':100,'Rimnicu':193,\n",
    "         'Sibiu':253,'Timisoara':329,'Urziceni':80,'Valsui':199,'Zerind':374}\n"
   ]
  },
  {
   "cell_type": "markdown",
   "id": "5e41f90a-9da1-44f5-9ab9-463f27b64f49",
   "metadata": {},
   "source": [
    "### Practical 02\n",
    "\n",
    "### A)"
   ]
  },
  {
   "cell_type": "code",
   "execution_count": 4,
   "id": "f5e8cb0b-fc00-4818-bdb7-579d5af8a578",
   "metadata": {},
   "outputs": [
    {
     "name": "stdout",
     "output_type": "stream",
     "text": [
      "The A* path with the total is: \n",
      "Arad,Sibiu,Rimnicu,Pitesti,Bucharest:: 418\n"
     ]
    }
   ],
   "source": [
    "import queue as Q  \n",
    "start = 'Arad'\n",
    "goal = 'Bucharest'\n",
    "result =''\n",
    "def get_fn(citystr): \n",
    "    cities=citystr.split(\",\") \n",
    "    hn=gn=0 \n",
    "    for ctr in range(0, len(cities)-1): \n",
    "        gn=gn+dict_gn[cities[ctr]][cities [ctr+1]]  \n",
    "    hn=dict_hn[cities[len(cities)-1]] \n",
    "    return (hn+gn)\n",
    "def expand(cityq): \n",
    "    global result \n",
    "    tot, citystr, thiscity=cityq.get() \n",
    "    if thiscity==goal: \n",
    "        result=citystr+\":: \"+str(tot) \n",
    "        return \n",
    "    for cty in dict_gn[thiscity]:\n",
    "        cityq.put((get_fn(citystr+\",\"+cty),citystr+\",\"+cty,cty)) \n",
    "    expand(cityq) \n",
    "def main(): \n",
    "    cityq=Q.PriorityQueue() \n",
    "    thiscity=start \n",
    "    cityq.put((get_fn(start), start, thiscity))  \n",
    "    expand(cityq) \n",
    "    print(\"The A* path with the total is: \") \n",
    "    print(result)\n",
    "main()"
   ]
  },
  {
   "cell_type": "code",
   "execution_count": 5,
   "id": "8585f149-839e-4751-ba46-22e159dbf023",
   "metadata": {},
   "outputs": [
    {
     "name": "stdout",
     "output_type": "stream",
     "text": [
      "Expanded city ------- Arad\n",
      "second best f(n)------ 999\n",
      "(393, 'Arad,Sibiu', 'Sibiu')\n",
      "(999, 'NA', 'NA')\n",
      "Expanded city ------- Sibiu\n",
      "second best f(n)------ 999\n",
      "(413, 'Arad,Sibiu,Rimnicu', 'Rimnicu')\n",
      "(999, 'NA', 'NA')\n",
      "Expanded city ------- Rimnicu\n",
      "second best f(n)------ 999\n",
      "(417, 'Arad,Sibiu,Rimnicu,Pitesti', 'Pitesti')\n",
      "(999, 'NA', 'NA')\n",
      "Expanded city ------- Pitesti\n",
      "second best f(n)------ 999\n",
      "(418, 'Arad,Sibiu,Rimnicu,Pitesti,Bucharest', 'Bucharest')\n",
      "(999, 'NA', 'NA')\n",
      "Arad,Sibiu,Rimnicu,Pitesti,Bucharest::418\n"
     ]
    }
   ],
   "source": [
    "import queue as Q\n",
    "start = 'Arad'\n",
    "goal = 'Bucharest'\n",
    "result = ''\n",
    "\n",
    "def get_fn(citystr):\n",
    "    cities=citystr.split(\",\")\n",
    "    hn=gn=0\n",
    "    for ctr in range(0,len(cities)-1):\n",
    "        gn=gn+dict_gn[cities[ctr]][cities[ctr+1]]\n",
    "    hn=dict_hn[cities[len(cities)-1]]\n",
    "    return(hn+gn)\n",
    "\n",
    "def printout(cityq):\n",
    "    for i in range(0,cityq.qsize()):\n",
    "        print(cityq.queue[i])\n",
    "        \n",
    "def expand(cityq):\n",
    "    global result\n",
    "    tot,citystr,thiscity = cityq.get()\n",
    "    nextot = 999\n",
    "    if not cityq.empty():\n",
    "        nexttot,nextcitystr,nextthiscity=cityq.queue[0]\n",
    "    if thiscity==goal and tot < nexttot:\n",
    "        result = citystr + \"::\" + str(tot)\n",
    "        return\n",
    "    print(\"Expanded city -------\",thiscity)\n",
    "    print(\"second best f(n)------\",nexttot)\n",
    "    tempq = Q.PriorityQueue()\n",
    "    for cty in dict_gn[thiscity]:\n",
    "        tempq.put((get_fn(citystr+','+cty),citystr+','+cty,cty))\n",
    "    for ctr in range(1,3):\n",
    "        ctrtot,ctrcitystr,ctrthiscity = tempq.get()\n",
    "        if ctrtot < nexttot:\n",
    "            cityq.put((ctrtot,ctrcitystr,ctrthiscity))\n",
    "        else:\n",
    "            cityq.put((ctrtot,citystr,thiscity))\n",
    "        break\n",
    "    printout(cityq)\n",
    "    expand(cityq)\n",
    "def main():\n",
    "    cityq=Q.PriorityQueue()\n",
    "    thiscity=start\n",
    "    cityq.put((999,\"NA\",\"NA\"))\n",
    "    cityq.put((get_fn(start),start,thiscity))\n",
    "    expand(cityq)\n",
    "    print(result)\n",
    "main()    \n"
   ]
  },
  {
   "cell_type": "code",
   "execution_count": null,
   "id": "81877326-e688-4e4f-9192-4ed16e136b95",
   "metadata": {},
   "outputs": [],
   "source": []
  }
 ],
 "metadata": {
  "kernelspec": {
   "display_name": "Python 3 (ipykernel)",
   "language": "python",
   "name": "python3"
  },
  "language_info": {
   "codemirror_mode": {
    "name": "ipython",
    "version": 3
   },
   "file_extension": ".py",
   "mimetype": "text/x-python",
   "name": "python",
   "nbconvert_exporter": "python",
   "pygments_lexer": "ipython3",
   "version": "3.10.12"
  }
 },
 "nbformat": 4,
 "nbformat_minor": 5
}
