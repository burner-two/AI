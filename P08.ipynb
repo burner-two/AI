{
 "cells": [
  {
   "cell_type": "markdown",
   "id": "27e35044-8d5c-4a77-a346-b8eccbb72b7d",
   "metadata": {},
   "source": [
    "# K NN algorithm"
   ]
  },
  {
   "cell_type": "code",
   "execution_count": 12,
   "id": "0c6bd9e6-5fa2-4954-9aba-87195224e351",
   "metadata": {},
   "outputs": [],
   "source": [
    "#Importing Libraries \n",
    "import numpy as np\n",
    "import pandas as pd\n",
    "from sklearn.model_selection import train_test_split \n",
    "from sklearn.neighbors import KNeighborsClassifier \n",
    "from sklearn.metrics import accuracy_score"
   ]
  },
  {
   "cell_type": "code",
   "execution_count": 13,
   "id": "debdf580-0be2-41d2-9286-3a9666d323e6",
   "metadata": {},
   "outputs": [],
   "source": [
    "#Load the Diabetes dataset\n",
    "df = pd.read_csv(\"diabetes.csv\")"
   ]
  },
  {
   "cell_type": "code",
   "execution_count": 14,
   "id": "000883e9-971c-40d7-908c-5fa2ce66d828",
   "metadata": {},
   "outputs": [
    {
     "data": {
      "text/plain": [
       "(768, 9)"
      ]
     },
     "execution_count": 14,
     "metadata": {},
     "output_type": "execute_result"
    }
   ],
   "source": [
    "df.shape"
   ]
  },
  {
   "cell_type": "code",
   "execution_count": 15,
   "id": "d8711fdb-3b18-4e37-a6d0-66193cdbdc93",
   "metadata": {},
   "outputs": [
    {
     "data": {
      "text/html": [
       "<div>\n",
       "<style scoped>\n",
       "    .dataframe tbody tr th:only-of-type {\n",
       "        vertical-align: middle;\n",
       "    }\n",
       "\n",
       "    .dataframe tbody tr th {\n",
       "        vertical-align: top;\n",
       "    }\n",
       "\n",
       "    .dataframe thead th {\n",
       "        text-align: right;\n",
       "    }\n",
       "</style>\n",
       "<table border=\"1\" class=\"dataframe\">\n",
       "  <thead>\n",
       "    <tr style=\"text-align: right;\">\n",
       "      <th></th>\n",
       "      <th>Pregnancies</th>\n",
       "      <th>Glucose</th>\n",
       "      <th>BloodPressure</th>\n",
       "      <th>SkinThickness</th>\n",
       "      <th>Insulin</th>\n",
       "      <th>BMI</th>\n",
       "      <th>DiabetesPedigreeFunction</th>\n",
       "      <th>Age</th>\n",
       "      <th>Outcome</th>\n",
       "    </tr>\n",
       "  </thead>\n",
       "  <tbody>\n",
       "    <tr>\n",
       "      <th>0</th>\n",
       "      <td>6</td>\n",
       "      <td>148</td>\n",
       "      <td>72</td>\n",
       "      <td>35</td>\n",
       "      <td>0</td>\n",
       "      <td>33.6</td>\n",
       "      <td>0.627</td>\n",
       "      <td>50</td>\n",
       "      <td>1</td>\n",
       "    </tr>\n",
       "    <tr>\n",
       "      <th>1</th>\n",
       "      <td>1</td>\n",
       "      <td>85</td>\n",
       "      <td>66</td>\n",
       "      <td>29</td>\n",
       "      <td>0</td>\n",
       "      <td>26.6</td>\n",
       "      <td>0.351</td>\n",
       "      <td>31</td>\n",
       "      <td>0</td>\n",
       "    </tr>\n",
       "    <tr>\n",
       "      <th>2</th>\n",
       "      <td>8</td>\n",
       "      <td>183</td>\n",
       "      <td>64</td>\n",
       "      <td>0</td>\n",
       "      <td>0</td>\n",
       "      <td>23.3</td>\n",
       "      <td>0.672</td>\n",
       "      <td>32</td>\n",
       "      <td>1</td>\n",
       "    </tr>\n",
       "    <tr>\n",
       "      <th>3</th>\n",
       "      <td>1</td>\n",
       "      <td>89</td>\n",
       "      <td>66</td>\n",
       "      <td>23</td>\n",
       "      <td>94</td>\n",
       "      <td>28.1</td>\n",
       "      <td>0.167</td>\n",
       "      <td>21</td>\n",
       "      <td>0</td>\n",
       "    </tr>\n",
       "    <tr>\n",
       "      <th>4</th>\n",
       "      <td>0</td>\n",
       "      <td>137</td>\n",
       "      <td>40</td>\n",
       "      <td>35</td>\n",
       "      <td>168</td>\n",
       "      <td>43.1</td>\n",
       "      <td>2.288</td>\n",
       "      <td>33</td>\n",
       "      <td>1</td>\n",
       "    </tr>\n",
       "  </tbody>\n",
       "</table>\n",
       "</div>"
      ],
      "text/plain": [
       "   Pregnancies  Glucose  BloodPressure  SkinThickness  Insulin   BMI  \\\n",
       "0            6      148             72             35        0  33.6   \n",
       "1            1       85             66             29        0  26.6   \n",
       "2            8      183             64              0        0  23.3   \n",
       "3            1       89             66             23       94  28.1   \n",
       "4            0      137             40             35      168  43.1   \n",
       "\n",
       "   DiabetesPedigreeFunction  Age  Outcome  \n",
       "0                     0.627   50        1  \n",
       "1                     0.351   31        0  \n",
       "2                     0.672   32        1  \n",
       "3                     0.167   21        0  \n",
       "4                     2.288   33        1  "
      ]
     },
     "execution_count": 15,
     "metadata": {},
     "output_type": "execute_result"
    }
   ],
   "source": [
    "#Display first 5 rows of dataset \n",
    "df.head()"
   ]
  },
  {
   "cell_type": "code",
   "execution_count": 16,
   "id": "bc877625-2072-4e7f-8d1c-35798e333ed4",
   "metadata": {},
   "outputs": [],
   "source": [
    "#Independent Variable\n",
    "x = df.drop('Outcome', axis=1).values"
   ]
  },
  {
   "cell_type": "code",
   "execution_count": 17,
   "id": "0898f5da-35d9-4382-b671-91cf256bf905",
   "metadata": {},
   "outputs": [],
   "source": [
    "#Dependent Variable \n",
    "y=df['Outcome'].values"
   ]
  },
  {
   "cell_type": "code",
   "execution_count": 18,
   "id": "397cc4e3-e95f-4630-9d60-a2c059dd2e3a",
   "metadata": {},
   "outputs": [],
   "source": [
    "#Split the dataset into training and testing sets \n",
    "x_train,x_test,y_train, y_test = train_test_split(x,y, test_size=0.3, random_state=0)"
   ]
  },
  {
   "cell_type": "code",
   "execution_count": 19,
   "id": "ac0e242f-3f6f-4f64-ae15-d19442289789",
   "metadata": {},
   "outputs": [],
   "source": [
    "#Set up KNN Classifier with k neighbors\n",
    "neighbour = np.arange(1,9)\n",
    "train_acc = np.empty(len(neighbour))\n",
    "test_acc= np.empty(len(neighbour))"
   ]
  },
  {
   "cell_type": "code",
   "execution_count": 20,
   "id": "c15a4951-88c0-47fe-ab4f-8ca8d3858f8b",
   "metadata": {},
   "outputs": [],
   "source": [
    "for i,k in enumerate(neighbour):\n",
    "    knn = KNeighborsClassifier(n_neighbors=k) \n",
    "    #Fit the model\n",
    "    knn.fit(x_train,y_train)\n",
    "train_acc[i] = knn.score (x_train,y_train) \n",
    "test_acc[i] = knn.score (x_test,y_test)"
   ]
  },
  {
   "cell_type": "code",
   "execution_count": 21,
   "id": "c86db784-ba2f-4040-8ab7-de4ef19d0694",
   "metadata": {},
   "outputs": [
    {
     "data": {
      "image/png": "[encoded data removed]",
      "text/plain": [
       "<Figure size 640x480 with 1 Axes>"
      ]
     },
     "metadata": {},
     "output_type": "display_data"
    }
   ],
   "source": [
    "#Plot Accuracy\n",
    "import matplotlib.pyplot as plt\n",
    "plt.plot(neighbour, test_acc, label='Testing Accuracy') \n",
    "plt.plot(neighbour, train_acc, label='Train Accuracy') \n",
    "plt.legend()\n",
    "plt.xlabel(\"Number of neighbors\") \n",
    "plt.ylabel(\"Accuracy\")\n",
    "plt.show()"
   ]
  },
  {
   "cell_type": "code",
   "execution_count": 22,
   "id": "3ed9ef96-d8f6-48fc-be7c-c4c50c280cf5",
   "metadata": {},
   "outputs": [],
   "source": [
    "#Predict the model \n",
    "y_pred = knn.predict(x_test)"
   ]
  },
  {
   "cell_type": "code",
   "execution_count": 25,
   "id": "b5ceb541-2e84-4fee-abf0-0d187163ec3b",
   "metadata": {},
   "outputs": [],
   "source": [
    "#Making the Confusion Matrix\n",
    "from sklearn.metrics import confusion_matrix, accuracy_score \n",
    "cm = confusion_matrix(y_test,y_pred)\n",
    "ac = accuracy_score(y_test,y_pred)"
   ]
  },
  {
   "cell_type": "code",
   "execution_count": 26,
   "id": "36ba2c70-774d-46b0-bed9-b18a024677ce",
   "metadata": {},
   "outputs": [
    {
     "name": "stdout",
     "output_type": "stream",
     "text": [
      "Accuracy: 0.7489177489177489\n"
     ]
    }
   ],
   "source": [
    "print(\"Accuracy:\",ac)"
   ]
  },
  {
   "cell_type": "code",
   "execution_count": 27,
   "id": "199e5e26-a77c-44e9-8329-68d1d755d1ee",
   "metadata": {},
   "outputs": [
    {
     "name": "stdout",
     "output_type": "stream",
     "text": [
      "[[139  18]\n",
      " [ 40  34]]\n"
     ]
    }
   ],
   "source": [
    "print(cm)"
   ]
  },
  {
   "cell_type": "code",
   "execution_count": 28,
   "id": "b1f5c5f1-c7c8-40cd-98eb-a0d4ef39b62f",
   "metadata": {},
   "outputs": [
    {
     "name": "stdout",
     "output_type": "stream",
     "text": [
      "              precision    recall  f1-score   support\n",
      "\n",
      "           0       0.78      0.89      0.83       157\n",
      "           1       0.65      0.46      0.54        74\n",
      "\n",
      "    accuracy                           0.75       231\n",
      "   macro avg       0.72      0.67      0.68       231\n",
      "weighted avg       0.74      0.75      0.74       231\n",
      "\n"
     ]
    }
   ],
   "source": [
    "from sklearn.metrics import classification_report \n",
    "print(classification_report(y_test,y_pred))"
   ]
  },
  {
   "cell_type": "code",
   "execution_count": null,
   "id": "1826b71a-0ccf-4c47-929b-32a16cf5f873",
   "metadata": {},
   "outputs": [],
   "source": []
  }
 ],
 "metadata": {
  "kernelspec": {
   "display_name": "Python 3 (ipykernel)",
   "language": "python",
   "name": "python3"
  },
  "language_info": {
   "codemirror_mode": {
    "name": "ipython",
    "version": 3
   },
   "file_extension": ".py",
   "mimetype": "text/x-python",
   "name": "python",
   "nbconvert_exporter": "python",
   "pygments_lexer": "ipython3",
   "version": "3.10.12"
  }
 },
 "nbformat": 4,
 "nbformat_minor": 5
}
